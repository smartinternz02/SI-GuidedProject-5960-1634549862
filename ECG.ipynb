{
 "cells": [
  {
   "cell_type": "code",
   "execution_count": 9,
   "id": "02df8263",
   "metadata": {},
   "outputs": [],
   "source": [
    "from keras.preprocessing.image import ImageDataGenerator"
   ]
  },
  {
   "cell_type": "code",
   "execution_count": 10,
   "id": "642e4770",
   "metadata": {},
   "outputs": [],
   "source": [
    "train_datagen=ImageDataGenerator(rescale=1./255,shear_range=0.2,zoom_range=0.2,horizontal_flip=True)\n",
    "\n",
    "test_datagen=ImageDataGenerator(rescale=1./255)"
   ]
  },
  {
   "cell_type": "code",
   "execution_count": 12,
   "id": "8cd33f4a",
   "metadata": {},
   "outputs": [
    {
     "name": "stdout",
     "output_type": "stream",
     "text": [
      "Found 15341 images belonging to 6 classes.\n",
      "Found 6825 images belonging to 6 classes.\n"
     ]
    }
   ],
   "source": [
    "x_train=train_datagen.flow_from_directory(directory=r'C:\\Users\\zen sunny\\project\\dataset\\data\\train',target_size=(64,64),batch_size=32,class_mode='categorical')\n",
    "                                         \n",
    "x_test=test_datagen.flow_from_directory(directory=r'C:\\Users\\zen sunny\\project\\dataset\\data\\test',target_size=(64,64),batch_size=32,class_mode='categorical')\n",
    "                                          "
   ]
  },
  {
   "cell_type": "code",
   "execution_count": 16,
   "id": "e76f00fd",
   "metadata": {},
   "outputs": [],
   "source": [
    "import numpy as np\n",
    "import tensorflow\n",
    "from tensorflow.keras.models import Sequential\n",
    "from tensorflow.keras import layers\n",
    "from tensorflow.keras.layers import Dense,Flatten\n",
    "from tensorflow.keras.layers import Conv2D,MaxPooling2D"
   ]
  },
  {
   "cell_type": "code",
   "execution_count": 22,
   "id": "617483d3",
   "metadata": {},
   "outputs": [],
   "source": [
    "model= Sequential()"
   ]
  },
  {
   "cell_type": "code",
   "execution_count": 23,
   "id": "801afb05",
   "metadata": {},
   "outputs": [],
   "source": [
    "model.add(Conv2D(32,(3,3),input_shape=(64,64,3),activation='relu'))\n",
    "model.add(MaxPooling2D(pool_size=(2,2)))\n",
    "\n",
    "model.add(Conv2D(32,(3,3),activation='relu'))\n",
    "model.add(MaxPooling2D(pool_size=(2,2)))\n",
    "\n",
    "model.add(Flatten())"
   ]
  },
  {
   "cell_type": "code",
   "execution_count": 24,
   "id": "9da102a7",
   "metadata": {},
   "outputs": [],
   "source": [
    "model.add(Dense(32))\n",
    "model.add(Dense(6,activation='softmax'))"
   ]
  },
  {
   "cell_type": "code",
   "execution_count": 25,
   "id": "425b82c3",
   "metadata": {},
   "outputs": [
    {
     "name": "stdout",
     "output_type": "stream",
     "text": [
      "Model: \"sequential_1\"\n",
      "_________________________________________________________________\n",
      "Layer (type)                 Output Shape              Param #   \n",
      "=================================================================\n",
      "conv2d_3 (Conv2D)            (None, 62, 62, 32)        896       \n",
      "_________________________________________________________________\n",
      "max_pooling2d_2 (MaxPooling2 (None, 31, 31, 32)        0         \n",
      "_________________________________________________________________\n",
      "conv2d_4 (Conv2D)            (None, 29, 29, 32)        9248      \n",
      "_________________________________________________________________\n",
      "max_pooling2d_3 (MaxPooling2 (None, 14, 14, 32)        0         \n",
      "_________________________________________________________________\n",
      "flatten_1 (Flatten)          (None, 6272)              0         \n",
      "_________________________________________________________________\n",
      "dense (Dense)                (None, 32)                200736    \n",
      "_________________________________________________________________\n",
      "dense_1 (Dense)              (None, 6)                 198       \n",
      "=================================================================\n",
      "Total params: 211,078\n",
      "Trainable params: 211,078\n",
      "Non-trainable params: 0\n",
      "_________________________________________________________________\n"
     ]
    }
   ],
   "source": [
    "model.summary()"
   ]
  },
  {
   "cell_type": "code",
   "execution_count": 28,
   "id": "6c9fe48d",
   "metadata": {},
   "outputs": [],
   "source": [
    "model.compile(optimizer='adam',loss='categorical_crossentropy',metrics=['accuracy'])"
   ]
  },
  {
   "cell_type": "code",
   "execution_count": 38,
   "id": "8a2c4439",
   "metadata": {},
   "outputs": [
    {
     "name": "stdout",
     "output_type": "stream",
     "text": [
      "WARNING:tensorflow:From <ipython-input-38-b00c24604049>:1: Model.fit_generator (from tensorflow.python.keras.engine.training) is deprecated and will be removed in a future version.\n",
      "Instructions for updating:\n",
      "Please use Model.fit, which supports generators.\n",
      "Epoch 1/10\n",
      "480/480 [==============================] - 612s 1s/step - loss: 0.8049 - accuracy: 0.7282 - val_loss: 0.4700 - val_accuracy: 0.8407\n",
      "Epoch 2/10\n",
      "480/480 [==============================] - 118s 247ms/step - loss: 0.2957 - accuracy: 0.9137 - val_loss: 0.3511 - val_accuracy: 0.8872\n",
      "Epoch 3/10\n",
      "480/480 [==============================] - 117s 244ms/step - loss: 0.2176 - accuracy: 0.9377 - val_loss: 0.3172 - val_accuracy: 0.9059\n",
      "Epoch 4/10\n",
      "480/480 [==============================] - 118s 246ms/step - loss: 0.1921 - accuracy: 0.9434 - val_loss: 0.2997 - val_accuracy: 0.9146\n",
      "Epoch 5/10\n",
      "480/480 [==============================] - 116s 241ms/step - loss: 0.1617 - accuracy: 0.9514 - val_loss: 0.3155 - val_accuracy: 0.9162\n",
      "Epoch 6/10\n",
      "480/480 [==============================] - 116s 243ms/step - loss: 0.1421 - accuracy: 0.9575 - val_loss: 0.3538 - val_accuracy: 0.9002\n",
      "Epoch 7/10\n",
      "480/480 [==============================] - 119s 247ms/step - loss: 0.1290 - accuracy: 0.9612 - val_loss: 0.2803 - val_accuracy: 0.9282\n",
      "Epoch 8/10\n",
      "480/480 [==============================] - 116s 242ms/step - loss: 0.1176 - accuracy: 0.9632 - val_loss: 0.4442 - val_accuracy: 0.9064\n",
      "Epoch 9/10\n",
      "480/480 [==============================] - 117s 244ms/step - loss: 0.1056 - accuracy: 0.9671 - val_loss: 0.3619 - val_accuracy: 0.9279\n",
      "Epoch 10/10\n",
      "480/480 [==============================] - 117s 245ms/step - loss: 0.1093 - accuracy: 0.9679 - val_loss: 0.3329 - val_accuracy: 0.9130\n"
     ]
    },
    {
     "data": {
      "text/plain": [
       "<tensorflow.python.keras.callbacks.History at 0x29e8abd3640>"
      ]
     },
     "execution_count": 38,
     "metadata": {},
     "output_type": "execute_result"
    }
   ],
   "source": [
    "model.fit_generator(generator=x_train,steps_per_epoch = len(x_train),epochs=10,validation_data=x_test,validation_steps = len(x_test))"
   ]
  },
  {
   "cell_type": "code",
   "execution_count": 42,
   "id": "8faaa1a3",
   "metadata": {},
   "outputs": [],
   "source": [
    "#save the model\n",
    "model.save('ECG.h5')"
   ]
  },
  {
   "cell_type": "code",
   "execution_count": 58,
   "id": "315e635d",
   "metadata": {},
   "outputs": [
    {
     "data": {
      "text/plain": [
       "array([1], dtype=int64)"
      ]
     },
     "execution_count": 58,
     "metadata": {},
     "output_type": "execute_result"
    }
   ],
   "source": [
    "#test the model\n",
    "from tensorflow.keras.models import load_model\n",
    "from keras.preprocessing import image\n",
    "model = load_model(\"ECG.h5\")\n",
    "\n",
    "\n",
    "#taking image as input and checking the results\n",
    "img = image.load_img(r\"C:\\Users\\zen sunny\\project\\dataset\\data\\test\\Normal\\fig_2118.png\",target_size=(64,64))\n",
    "x = image.img_to_array(img)\n",
    "x = np.expand_dims(x,axis = 0)\n",
    "pred = model.predict_classes(x)\n",
    "pred\n"
   ]
  },
  {
   "cell_type": "code",
   "execution_count": 59,
   "id": "4e9859cf",
   "metadata": {},
   "outputs": [
    {
     "data": {
      "text/plain": [
       "'Normal'"
      ]
     },
     "execution_count": 59,
     "metadata": {},
     "output_type": "execute_result"
    }
   ],
   "source": [
    "index=['left Bundle Branch Block','Normal','Premature Atrial Contraction','Premature Ventricular Contractions','Right Bundle Block','Venricular Fibrillation']\n",
    "result=str(index[pred[0]])\n",
    "result\n"
   ]
  },
  {
   "cell_type": "code",
   "execution_count": null,
   "id": "24db9e7a",
   "metadata": {},
   "outputs": [],
   "source": []
  },
  {
   "cell_type": "code",
   "execution_count": null,
   "id": "c138069d",
   "metadata": {},
   "outputs": [],
   "source": []
  },
  {
   "cell_type": "code",
   "execution_count": null,
   "id": "6a1c7c48",
   "metadata": {},
   "outputs": [],
   "source": []
  }
 ],
 "metadata": {
  "kernelspec": {
   "display_name": "Python 3",
   "language": "python",
   "name": "python3"
  },
  "language_info": {
   "codemirror_mode": {
    "name": "ipython",
    "version": 3
   },
   "file_extension": ".py",
   "mimetype": "text/x-python",
   "name": "python",
   "nbconvert_exporter": "python",
   "pygments_lexer": "ipython3",
   "version": "3.8.8"
  }
 },
 "nbformat": 4,
 "nbformat_minor": 5
}
